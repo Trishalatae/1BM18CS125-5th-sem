{
 "cells": [
  {
   "cell_type": "markdown",
   "metadata": {
    "_cell_guid": "b1076dfc-b9ad-4769-8c92-a6c4dae69d19",
    "_uuid": "8f2839f25d086af736a60e9eeb907d3b93b6e0e5",
    "papermill": {
     "duration": 0.007807,
     "end_time": "2020-10-19T05:18:19.476977",
     "exception": false,
     "start_time": "2020-10-19T05:18:19.469170",
     "status": "completed"
    },
    "tags": []
   },
   "source": [
    "# 8 Puzzle Problem"
   ]
  },
  {
   "cell_type": "markdown",
   "metadata": {
    "_cell_guid": "79c7e3d0-c299-4dcb-8224-4455121ee9b0",
    "_uuid": "d629ff2d2480ee46fbb7e2d37f6b5fab8052498a",
    "collapsed": true,
    "papermill": {
     "duration": 0.006849,
     "end_time": "2020-10-19T05:18:19.491647",
     "exception": false,
     "start_time": "2020-10-19T05:18:19.484798",
     "status": "completed"
    },
    "tags": []
   },
   "source": [
    "BMS College of Engineering - Dr Kavitha Sooda <br />\n",
    "BMS College of Engineering - Dr Nagarathna N <br />\n",
    "BMS College of Engineering - Prof G R Asha  <br />\n",
    "##### Class 5C"
   ]
  },
  {
   "cell_type": "markdown",
   "metadata": {
    "papermill": {
     "duration": 0.006375,
     "end_time": "2020-10-19T05:18:19.504757",
     "exception": false,
     "start_time": "2020-10-19T05:18:19.498382",
     "status": "completed"
    },
    "tags": []
   },
   "source": [
    "## Objective\n",
    " Given a 3×3 board with 8 tiles and one empty space \n",
    " - Move the numbers around to match the final configuration using the empty spot \n",
    " - You can slide the numbers from above, below, left and right tiles into the empty space.\n",
    "![](https://media.geeksforgeeks.org/wp-content/uploads/puzzle8init.jpg)"
   ]
  },
  {
   "cell_type": "markdown",
   "metadata": {
    "papermill": {
     "duration": 0.006722,
     "end_time": "2020-10-19T05:18:19.518123",
     "exception": false,
     "start_time": "2020-10-19T05:18:19.511401",
     "status": "completed"
    },
    "tags": []
   },
   "source": [
    "# Use A* Algorithm\n",
    "\n",
    "![](https://media.geeksforgeeks.org/wp-content/uploads/puzzle-1.jpg)"
   ]
  },
  {
   "cell_type": "markdown",
   "metadata": {
    "papermill": {
     "duration": 0.006653,
     "end_time": "2020-10-19T05:18:19.531629",
     "exception": false,
     "start_time": "2020-10-19T05:18:19.524976",
     "status": "completed"
    },
    "tags": []
   },
   "source": [
    "## 1. Create the function that finds us the total estimated cost of path through node n - F(n)\n",
    "- Create a way to find cost so far to reach node n - G(n) \n",
    "- Create a heuristic function to estimate cost from n to goal - H(n)"
   ]
  },
  {
   "cell_type": "code",
   "execution_count": 1,
   "metadata": {
    "execution": {
     "iopub.execute_input": "2020-10-19T05:18:19.551040Z",
     "iopub.status.busy": "2020-10-19T05:18:19.550393Z",
     "iopub.status.idle": "2020-10-19T05:18:19.553479Z",
     "shell.execute_reply": "2020-10-19T05:18:19.552975Z"
    },
    "papermill": {
     "duration": 0.013904,
     "end_time": "2020-10-19T05:18:19.553569",
     "exception": false,
     "start_time": "2020-10-19T05:18:19.539665",
     "status": "completed"
    },
    "tags": []
   },
   "outputs": [],
   "source": [
    "def G_n(state):\n",
    "    # Note: You can skip this step if you feel you have a better way of getting G(n)\n",
    "    pass"
   ]
  },
  {
   "cell_type": "code",
   "execution_count": 2,
   "metadata": {
    "execution": {
     "iopub.execute_input": "2020-10-19T05:18:19.574240Z",
     "iopub.status.busy": "2020-10-19T05:18:19.573697Z",
     "iopub.status.idle": "2020-10-19T05:18:19.576898Z",
     "shell.execute_reply": "2020-10-19T05:18:19.576409Z"
    },
    "papermill": {
     "duration": 0.016032,
     "end_time": "2020-10-19T05:18:19.576991",
     "exception": false,
     "start_time": "2020-10-19T05:18:19.560959",
     "status": "completed"
    },
    "tags": []
   },
   "outputs": [],
   "source": [
    "def H_n(state, target, g):\n",
    "    cost = 0\n",
    "    for i in state:\n",
    "        d1, d2 = state.index(i), target.index(i)\n",
    "        p, q = d1 % 3, d1 // 3\n",
    "        x, y = d2 % 3, d2 //3\n",
    "        cost+= abs(p-x) + abs(q-y)\n",
    "    return cost+g"
   ]
  },
  {
   "cell_type": "code",
   "execution_count": 3,
   "metadata": {
    "execution": {
     "iopub.execute_input": "2020-10-19T05:18:19.597283Z",
     "iopub.status.busy": "2020-10-19T05:18:19.596733Z",
     "iopub.status.idle": "2020-10-19T05:18:19.600363Z",
     "shell.execute_reply": "2020-10-19T05:18:19.599879Z"
    },
    "papermill": {
     "duration": 0.015828,
     "end_time": "2020-10-19T05:18:19.600449",
     "exception": false,
     "start_time": "2020-10-19T05:18:19.584621",
     "status": "completed"
    },
    "tags": []
   },
   "outputs": [],
   "source": [
    "def F_n(poss_moves,target,g):# Fill inputs as necessary\n",
    "    return [sorted([(i,H_n(i,target,g)) for i in poss_moves], key = lambda x : x[1])[0][0]]\n",
    "    "
   ]
  },
  {
   "cell_type": "markdown",
   "metadata": {
    "papermill": {
     "duration": 0.007238,
     "end_time": "2020-10-19T05:18:19.615343",
     "exception": false,
     "start_time": "2020-10-19T05:18:19.608105",
     "status": "completed"
    },
    "tags": []
   },
   "source": [
    "## 2. Create a Search function\n",
    "### To traverse across the tree using F(n) to select the next node\n",
    "    1. Make sure it to discard visited sites\n",
    "    2. Create possible moves function\n",
    "    3. Create move generator function\n"
   ]
  },
  {
   "cell_type": "code",
   "execution_count": 4,
   "metadata": {
    "execution": {
     "iopub.execute_input": "2020-10-19T05:18:19.637305Z",
     "iopub.status.busy": "2020-10-19T05:18:19.636801Z",
     "iopub.status.idle": "2020-10-19T05:18:19.639695Z",
     "shell.execute_reply": "2020-10-19T05:18:19.639262Z"
    },
    "papermill": {
     "duration": 0.017022,
     "end_time": "2020-10-19T05:18:19.639776",
     "exception": false,
     "start_time": "2020-10-19T05:18:19.622754",
     "status": "completed"
    },
    "tags": []
   },
   "outputs": [],
   "source": [
    "def astar(state, target):# Add inputs if more are required\n",
    "    visited_states=[]\n",
    "    visited_states.append(src)\n",
    "    g = 0\n",
    "    arr = [src]\n",
    "    c = 0\n",
    "    while arr:\n",
    "        c += 1                                           # Calculate Number of Iterations                                   # Print current state to check\n",
    "        if arr[0] == target:                             # break if target found\n",
    "            return True\n",
    "        arr += F_n(possible_moves(arr[0],visited_states),target,g)                    # else Add all possible moves to arr\n",
    "        visited_states.append(arr[0]) \n",
    "        print(\"Level {} : {}\".format(g,arr[0]))\n",
    "        arr.pop(0)                                       # remove checked move from arr \n",
    "        g+=1\n",
    "    return False"
   ]
  },
  {
   "cell_type": "code",
   "execution_count": 5,
   "metadata": {
    "execution": {
     "iopub.execute_input": "2020-10-19T05:18:19.661285Z",
     "iopub.status.busy": "2020-10-19T05:18:19.660765Z",
     "iopub.status.idle": "2020-10-19T05:18:19.663631Z",
     "shell.execute_reply": "2020-10-19T05:18:19.664032Z"
    },
    "papermill": {
     "duration": 0.016935,
     "end_time": "2020-10-19T05:18:19.664153",
     "exception": false,
     "start_time": "2020-10-19T05:18:19.647218",
     "status": "completed"
    },
    "tags": []
   },
   "outputs": [],
   "source": [
    "def possible_moves(state,visited_states):# Add inputs if more are required\n",
    "    ind = state.index(-1)\n",
    "    d=[]\n",
    "    if ind+3 in range(9): d.append('d')\n",
    "    if ind-3 in range(9): d.append('u')\n",
    "    if ind not in [0,3,6]: d.append('l')\n",
    "    if ind not in [2,5,8]: d.append('r')\n",
    "    pos_moves=[]\n",
    "    for move in d:\n",
    "        pos_moves.append(gen(state,move,ind))\n",
    "    return [move for move in pos_moves if move not in visited_states]\n"
   ]
  },
  {
   "cell_type": "code",
   "execution_count": 6,
   "metadata": {
    "execution": {
     "iopub.execute_input": "2020-10-19T05:18:19.686381Z",
     "iopub.status.busy": "2020-10-19T05:18:19.685909Z",
     "iopub.status.idle": "2020-10-19T05:18:19.688138Z",
     "shell.execute_reply": "2020-10-19T05:18:19.687658Z"
    },
    "papermill": {
     "duration": 0.016121,
     "end_time": "2020-10-19T05:18:19.688223",
     "exception": false,
     "start_time": "2020-10-19T05:18:19.672102",
     "status": "completed"
    },
    "tags": []
   },
   "outputs": [],
   "source": [
    "def gen(state, direction, b):\n",
    "    temp=state.copy()\n",
    "    if direction == 'd': temp[b+3] , temp[b] = temp[b], temp[b+3]\n",
    "    if direction == 'u': temp[b-3] , temp[b] = temp[b], temp[b-3]\n",
    "    if direction == 'l': temp[b-1] , temp[b] = temp[b], temp[b-1]\n",
    "    if direction == 'r': temp[b+1] , temp[b] = temp[b], temp[b+1]\n",
    "    return temp"
   ]
  },
  {
   "cell_type": "code",
   "execution_count": 7,
   "metadata": {
    "execution": {
     "iopub.execute_input": "2020-10-19T05:18:19.710393Z",
     "iopub.status.busy": "2020-10-19T05:18:19.709760Z",
     "iopub.status.idle": "2020-10-19T05:18:19.715357Z",
     "shell.execute_reply": "2020-10-19T05:18:19.715881Z"
    },
    "papermill": {
     "duration": 0.020014,
     "end_time": "2020-10-19T05:18:19.716020",
     "exception": false,
     "start_time": "2020-10-19T05:18:19.696006",
     "status": "completed"
    },
    "tags": []
   },
   "outputs": [
    {
     "name": "stdout",
     "output_type": "stream",
     "text": [
      "Level 0 : [1, 2, 3, -1, 4, 5, 6, 7, 8]\n",
      "Level 1 : [1, 2, 3, 4, -1, 5, 6, 7, 8]\n"
     ]
    },
    {
     "data": {
      "text/plain": [
       "True"
      ]
     },
     "execution_count": 7,
     "metadata": {},
     "output_type": "execute_result"
    }
   ],
   "source": [
    "#Test 1\n",
    "src = [1,2,3,-1,4,5,6,7,8]\n",
    "target = [1,2,3,4,5,-1,6,7,8]         \n",
    "\n",
    "\n",
    "astar(src, target) "
   ]
  },
  {
   "cell_type": "code",
   "execution_count": 8,
   "metadata": {
    "execution": {
     "iopub.execute_input": "2020-10-19T05:18:19.749895Z",
     "iopub.status.busy": "2020-10-19T05:18:19.749048Z",
     "iopub.status.idle": "2020-10-19T05:18:19.753123Z",
     "shell.execute_reply": "2020-10-19T05:18:19.753634Z"
    },
    "papermill": {
     "duration": 0.024855,
     "end_time": "2020-10-19T05:18:19.753766",
     "exception": false,
     "start_time": "2020-10-19T05:18:19.728911",
     "status": "completed"
    },
    "tags": []
   },
   "outputs": [
    {
     "name": "stdout",
     "output_type": "stream",
     "text": [
      "Level 0 : [1, 2, 3, -1, 4, 5, 6, 7, 8]\n"
     ]
    },
    {
     "data": {
      "text/plain": [
       "True"
      ]
     },
     "execution_count": 8,
     "metadata": {},
     "output_type": "execute_result"
    }
   ],
   "source": [
    "# Test 2\n",
    "src = [1,2,3,-1,4,5,6,7,8] \n",
    "target=[1,2,3,6,4,5,-1,7,8]\n",
    "\n",
    "\n",
    "\n",
    "astar(src, target)"
   ]
  },
  {
   "cell_type": "code",
   "execution_count": 9,
   "metadata": {
    "execution": {
     "iopub.execute_input": "2020-10-19T05:18:19.783973Z",
     "iopub.status.busy": "2020-10-19T05:18:19.783468Z",
     "iopub.status.idle": "2020-10-19T05:18:19.787037Z",
     "shell.execute_reply": "2020-10-19T05:18:19.786416Z"
    },
    "papermill": {
     "duration": 0.019991,
     "end_time": "2020-10-19T05:18:19.787133",
     "exception": false,
     "start_time": "2020-10-19T05:18:19.767142",
     "status": "completed"
    },
    "tags": []
   },
   "outputs": [],
   "source": [
    "# # Test 3\n",
    "# src = [1,2,3,7,4,5,6,-1,8] \n",
    "# target=[1,2,3,6,4,5,-1,7,8]\n",
    "\n",
    "\n",
    "\n",
    "# astar(src, target)"
   ]
  }
 ],
 "metadata": {
  "kernelspec": {
   "display_name": "Python 3",
   "language": "python",
   "name": "python3"
  },
  "language_info": {
   "codemirror_mode": {
    "name": "ipython",
    "version": 3
   },
   "file_extension": ".py",
   "mimetype": "text/x-python",
   "name": "python",
   "nbconvert_exporter": "python",
   "pygments_lexer": "ipython3",
   "version": "3.7.6"
  },
  "papermill": {
   "duration": 4.674919,
   "end_time": "2020-10-19T05:18:19.907003",
   "environment_variables": {},
   "exception": null,
   "input_path": "__notebook__.ipynb",
   "output_path": "__notebook__.ipynb",
   "parameters": {},
   "start_time": "2020-10-19T05:18:15.232084",
   "version": "2.1.0"
  }
 },
 "nbformat": 4,
 "nbformat_minor": 4
}
